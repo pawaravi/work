{
 "cells": [
  {
   "cell_type": "raw",
   "id": "1652a8b9",
   "metadata": {},
   "source": [
    "1. In the below elements which of them are values or an expression? eg:- values can be integer or string and expressions will be mathematical operators.\n",
    "ANS\n",
    "* - expression\n",
    "'hello'Value\n",
    "-87.8Value\n",
    "- expression\n",
    "/ expression\n",
    "+ expression\t\n",
    "6 Value\n"
   ]
  },
  {
   "cell_type": "raw",
   "id": "25d73080",
   "metadata": {},
   "source": [
    "2. What is the difference between string and variable? \n",
    "\n",
    "Ans #String is information we used to work on it in python & variale are used to store this information to get the output.\n",
    "    "
   ]
  },
  {
   "cell_type": "raw",
   "id": "1cb4eb99",
   "metadata": {},
   "source": [
    "3. Describe three different data types.\n",
    "Ans Text ,Numeric ,Boolean\n",
    "\n",
    "Text usally string \n",
    "Numeric -interger, complex number \n",
    "Boolean -true false"
   ]
  },
  {
   "cell_type": "raw",
   "id": "82c246d8",
   "metadata": {},
   "source": [
    "4. What is an expression made up of? What do all expressions do?\n",
    "\n",
    "Ans Expression are mathematical operators ,its use to get different require output.\n"
   ]
  },
  {
   "cell_type": "raw",
   "id": "c1934c6c",
   "metadata": {},
   "source": [
    "5. This assignment statements, like spam = 10. What is the difference between an expression and a statement?\n",
    "\n",
    "Ans Expression is used to get different output & statement is just information pythonused to execute. "
   ]
  },
  {
   "cell_type": "raw",
   "id": "cc3c6f17",
   "metadata": {},
   "source": [
    "6. After running the following code, what does the variable bacon contain?\n",
    "bacon = 22 \n",
    "bacon + 1\n",
    "Ans 22 & 44"
   ]
  },
  {
   "cell_type": "raw",
   "id": "30da5a3e",
   "metadata": {},
   "source": [
    "7. What should the values of the following two terms be?\n",
    "'spam' + 'spamspam'\n",
    "'spam' * 3\n",
    "Ans-Same"
   ]
  },
  {
   "cell_type": "raw",
   "id": "b313e836",
   "metadata": {},
   "source": [
    "8. Why is eggs a valid variable name while 100 is invalid?\n",
    "\n",
    "Ans 100 is already have define value in python "
   ]
  },
  {
   "cell_type": "raw",
   "id": "3a1fdb99",
   "metadata": {},
   "source": [
    "9. What three functions can be used to get the integer, floating-point number, or string version of a value?\n",
    "Ans ?"
   ]
  },
  {
   "cell_type": "raw",
   "id": "c981d12c",
   "metadata": {},
   "source": [
    "10. Why does this expression cause an error? How can you fix it?\n",
    "'I have eaten',99,' burritos'\n",
    "Ans putting double inverted qoutes\n"
   ]
  }
 ],
 "metadata": {
  "kernelspec": {
   "display_name": "Python 3 (ipykernel)",
   "language": "python",
   "name": "python3"
  },
  "language_info": {
   "codemirror_mode": {
    "name": "ipython",
    "version": 3
   },
   "file_extension": ".py",
   "mimetype": "text/x-python",
   "name": "python",
   "nbconvert_exporter": "python",
   "pygments_lexer": "ipython3",
   "version": "3.9.12"
  }
 },
 "nbformat": 4,
 "nbformat_minor": 5
}
